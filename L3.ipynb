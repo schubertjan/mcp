{
 "cells": [
  {
   "cell_type": "markdown",
   "id": "1c10b768-f5b4-43bc-a785-99077422ce78",
   "metadata": {},
   "source": [
    "# Lesson 3: Chatbot Example"
   ]
  },
  {
   "cell_type": "markdown",
   "id": "85d4fedc-4b90-4754-9f2d-fd3cfa321a14",
   "metadata": {},
   "source": [
    "In this lesson, you will familiarize yourself with the chatbot example you will work on during this course. The example includes the tool definitions and execution, as well as the chatbot code. Make sure to interact with the chatbot at the end of this notebook."
   ]
  },
  {
   "cell_type": "markdown",
   "id": "e0ed96ba-5ade-4af4-9096-406ce48d5cf2",
   "metadata": {},
   "source": [
    "## Import Libraries"
   ]
  },
  {
   "cell_type": "code",
   "execution_count": 1,
   "id": "dd6bd1d4-f652-45d1-9efa-155a2cc01713",
   "metadata": {},
   "outputs": [],
   "source": [
    "import arxiv\n",
    "import json\n",
    "import os\n",
    "from typing import List\n",
    "from dotenv import load_dotenv\n",
    "import anthropic"
   ]
  },
  {
   "cell_type": "markdown",
   "id": "f20f163a-87af-4e0c-87ed-1624c150c572",
   "metadata": {},
   "source": [
    "## Tool Functions"
   ]
  },
  {
   "cell_type": "code",
   "execution_count": 2,
   "id": "549a7f46-74b3-4a1d-b084-055c99e3c318",
   "metadata": {},
   "outputs": [],
   "source": [
    "PAPER_DIR = \"papers\""
   ]
  },
  {
   "cell_type": "markdown",
   "id": "9e43905e-56f3-404c-a322-f038055e9b1c",
   "metadata": {},
   "source": [
    "The first tool searches for relevant arXiv papers based on a topic and stores the papers' info in a JSON file (title, authors, summary, paper url and the publication date). The JSON files are organized by topics in the `papers` directory. The tool does not download the papers.  "
   ]
  },
  {
   "cell_type": "code",
   "execution_count": 3,
   "id": "886633b8-ce67-4343-822d-cc3f98f953fa",
   "metadata": {},
   "outputs": [],
   "source": [
    "def search_papers(topic: str, max_results: int = 5) -> List[str]:\n",
    "    \"\"\"\n",
    "    Search for papers on arXiv based on a topic and store their information.\n",
    "    \n",
    "    Args:\n",
    "        topic: The topic to search for\n",
    "        max_results: Maximum number of results to retrieve (default: 5)\n",
    "        \n",
    "    Returns:\n",
    "        List of paper IDs found in the search\n",
    "    \"\"\"\n",
    "    \n",
    "    # Use arxiv to find the papers \n",
    "    client = arxiv.Client()\n",
    "\n",
    "    # Search for the most relevant articles matching the queried topic\n",
    "    search = arxiv.Search(\n",
    "        query = topic,\n",
    "        max_results = max_results,\n",
    "        sort_by = arxiv.SortCriterion.Relevance\n",
    "    )\n",
    "\n",
    "    papers = client.results(search)\n",
    "    \n",
    "    # Create directory for this topic\n",
    "    path = os.path.join(PAPER_DIR, topic.lower().replace(\" \", \"_\"))\n",
    "    os.makedirs(path, exist_ok=True)\n",
    "    \n",
    "    file_path = os.path.join(path, \"papers_info.json\")\n",
    "\n",
    "    # Try to load existing papers info\n",
    "    try:\n",
    "        with open(file_path, \"r\") as json_file:\n",
    "            papers_info = json.load(json_file)\n",
    "    except (FileNotFoundError, json.JSONDecodeError):\n",
    "        papers_info = {}\n",
    "\n",
    "    # Process each paper and add to papers_info  \n",
    "    paper_ids = []\n",
    "    for paper in papers:\n",
    "        paper_ids.append(paper.get_short_id())\n",
    "        paper_info = {\n",
    "            'title': paper.title,\n",
    "            'authors': [author.name for author in paper.authors],\n",
    "            'summary': paper.summary,\n",
    "            'pdf_url': paper.pdf_url,\n",
    "            'published': str(paper.published.date())\n",
    "        }\n",
    "        papers_info[paper.get_short_id()] = paper_info\n",
    "    \n",
    "    # Save updated papers_info to json file\n",
    "    with open(file_path, \"w\") as json_file:\n",
    "        json.dump(papers_info, json_file, indent=2)\n",
    "    \n",
    "    print(f\"Results are saved in: {file_path}\")\n",
    "    \n",
    "    return paper_ids"
   ]
  },
  {
   "cell_type": "code",
   "execution_count": 4,
   "id": "d20ee17a-afe6-438a-95b1-6e87742c7fac",
   "metadata": {},
   "outputs": [
    {
     "name": "stdout",
     "output_type": "stream",
     "text": [
      "Results are saved in: papers/computers/papers_info.json\n"
     ]
    },
    {
     "data": {
      "text/plain": [
       "['1310.7911v2',\n",
       " 'math/9711204v1',\n",
       " '2208.00733v1',\n",
       " '2504.07020v1',\n",
       " '2403.03925v1']"
      ]
     },
     "execution_count": 4,
     "metadata": {},
     "output_type": "execute_result"
    }
   ],
   "source": [
    "search_papers(\"computers\")"
   ]
  },
  {
   "cell_type": "markdown",
   "id": "dfb83565-69af-47f3-9ba3-a96965cff7df",
   "metadata": {},
   "source": [
    "The second tool looks for information about a specific paper across all topic directories inside the `papers` directory."
   ]
  },
  {
   "cell_type": "code",
   "execution_count": 5,
   "id": "df9b1997-81cd-447d-9665-1cb72d93bb9a",
   "metadata": {},
   "outputs": [],
   "source": [
    "def extract_info(paper_id: str) -> str:\n",
    "    \"\"\"\n",
    "    Search for information about a specific paper across all topic directories.\n",
    "    \n",
    "    Args:\n",
    "        paper_id: The ID of the paper to look for\n",
    "        \n",
    "    Returns:\n",
    "        JSON string with paper information if found, error message if not found\n",
    "    \"\"\"\n",
    " \n",
    "    for item in os.listdir(PAPER_DIR):\n",
    "        item_path = os.path.join(PAPER_DIR, item)\n",
    "        if os.path.isdir(item_path):\n",
    "            file_path = os.path.join(item_path, \"papers_info.json\")\n",
    "            if os.path.isfile(file_path):\n",
    "                try:\n",
    "                    with open(file_path, \"r\") as json_file:\n",
    "                        papers_info = json.load(json_file)\n",
    "                        if paper_id in papers_info:\n",
    "                            return json.dumps(papers_info[paper_id], indent=2)\n",
    "                except (FileNotFoundError, json.JSONDecodeError) as e:\n",
    "                    print(f\"Error reading {file_path}: {str(e)}\")\n",
    "                    continue\n",
    "    \n",
    "    return f\"There's no saved information related to paper {paper_id}.\""
   ]
  },
  {
   "cell_type": "code",
   "execution_count": 6,
   "id": "0ebe0de7-8f07-4e08-a670-7b371fc3d2d9",
   "metadata": {},
   "outputs": [
    {
     "data": {
      "text/plain": [
       "'{\\n  \"title\": \"Compact manifolds with computable boundaries\",\\n  \"authors\": [\\n    \"Zvonko Iljazovic\"\\n  ],\\n  \"summary\": \"We investigate conditions under which a co-computably enumerable closed set\\\\nin a computable metric space is computable and prove that in each locally\\\\ncomputable computable metric space each co-computably enumerable compact\\\\nmanifold with computable boundary is computable. In fact, we examine the notion\\\\nof a semi-computable compact set and we prove a more general result: in any\\\\ncomputable metric space each semi-computable compact manifold with computable\\\\nboundary is computable. In particular, each semi-computable compact\\\\n(boundaryless) manifold is computable.\",\\n  \"pdf_url\": \"http://arxiv.org/pdf/1310.7911v2\",\\n  \"published\": \"2013-10-29\"\\n}'"
      ]
     },
     "execution_count": 6,
     "metadata": {},
     "output_type": "execute_result"
    }
   ],
   "source": [
    "extract_info('1310.7911v2')"
   ]
  },
  {
   "cell_type": "markdown",
   "id": "b5ea3013-e690-4bc8-8622-27b4d42d61e4",
   "metadata": {},
   "source": [
    "## Tool Schema"
   ]
  },
  {
   "cell_type": "markdown",
   "id": "7c7d2260-452d-472a-b56e-326479cb18c9",
   "metadata": {},
   "source": [
    "Here are the schema of each tool which you will provide to the LLM."
   ]
  },
  {
   "cell_type": "code",
   "execution_count": 7,
   "id": "e5bdea5f-e93a-4018-8c13-00d5ee10c0b7",
   "metadata": {},
   "outputs": [],
   "source": [
    "tools = [\n",
    "    {\n",
    "        \"name\": \"search_papers\",\n",
    "        \"description\": \"Search for papers on arXiv based on a topic and store their information.\",\n",
    "        \"input_schema\": {\n",
    "            \"type\": \"object\",\n",
    "            \"properties\": {\n",
    "                \"topic\": {\n",
    "                    \"type\": \"string\",\n",
    "                    \"description\": \"The topic to search for\"\n",
    "                }, \n",
    "                \"max_results\": {\n",
    "                    \"type\": \"integer\",\n",
    "                    \"description\": \"Maximum number of results to retrieve\",\n",
    "                    \"default\": 5\n",
    "                }\n",
    "            },\n",
    "            \"required\": [\"topic\"]\n",
    "        }\n",
    "    },\n",
    "    {\n",
    "        \"name\": \"extract_info\",\n",
    "        \"description\": \"Search for information about a specific paper across all topic directories.\",\n",
    "        \"input_schema\": {\n",
    "            \"type\": \"object\",\n",
    "            \"properties\": {\n",
    "                \"paper_id\": {\n",
    "                    \"type\": \"string\",\n",
    "                    \"description\": \"The ID of the paper to look for\"\n",
    "                }\n",
    "            },\n",
    "            \"required\": [\"paper_id\"]\n",
    "        }\n",
    "    }\n",
    "]"
   ]
  },
  {
   "cell_type": "markdown",
   "id": "ec668d24-1559-41b7-bc8a-e2dca77dfaf2",
   "metadata": {},
   "source": [
    "## Tool Mapping"
   ]
  },
  {
   "cell_type": "markdown",
   "id": "c728c1ec-36b1-48b4-9f85-622464ac79f4",
   "metadata": {},
   "source": [
    "This code handles tool mapping and execution."
   ]
  },
  {
   "cell_type": "code",
   "execution_count": 8,
   "id": "c90790c0-efc4-4068-9c00-d2592d80bc30",
   "metadata": {},
   "outputs": [],
   "source": [
    "mapping_tool_function = {\n",
    "    \"search_papers\": search_papers,\n",
    "    \"extract_info\": extract_info\n",
    "}\n",
    "\n",
    "def execute_tool(tool_name, tool_args):\n",
    "    \n",
    "    result = mapping_tool_function[tool_name](**tool_args)\n",
    "\n",
    "    if result is None:\n",
    "        result = \"The operation completed but didn't return any results.\"\n",
    "        \n",
    "    elif isinstance(result, list):\n",
    "        result = ', '.join(result)\n",
    "        \n",
    "    elif isinstance(result, dict):\n",
    "        # Convert dictionaries to formatted JSON strings\n",
    "        result = json.dumps(result, indent=2)\n",
    "    \n",
    "    else:\n",
    "        # For any other type, convert using str()\n",
    "        result = str(result)\n",
    "    return result"
   ]
  },
  {
   "cell_type": "markdown",
   "id": "4d8fc4d3-58ac-482c-8bbd-bccd6ef9fc31",
   "metadata": {},
   "source": [
    "## Chatbot Code"
   ]
  },
  {
   "cell_type": "markdown",
   "id": "e9ba0fad-b0e4-4415-a431-341e9ca85087",
   "metadata": {},
   "source": [
    "The chatbot handles the user's queries one by one, but it does not persist memory across the queries."
   ]
  },
  {
   "cell_type": "code",
   "execution_count": 9,
   "id": "fe662400-8506-464e-a3da-75a3d8848bac",
   "metadata": {},
   "outputs": [],
   "source": [
    "load_dotenv() \n",
    "client = anthropic.Anthropic()"
   ]
  },
  {
   "cell_type": "markdown",
   "id": "175586b4-acdf-4103-8039-134478a4f797",
   "metadata": {},
   "source": [
    "### Query Processing"
   ]
  },
  {
   "cell_type": "code",
   "execution_count": 10,
   "id": "12a896e0-3f56-417e-aa51-c61756048593",
   "metadata": {},
   "outputs": [],
   "source": [
    "def process_query(query):\n",
    "    \n",
    "    messages = [{'role': 'user', 'content': query}]\n",
    "    \n",
    "    response = client.messages.create(max_tokens = 2024,\n",
    "                                  model = 'claude-3-7-sonnet-20250219', \n",
    "                                  tools = tools,\n",
    "                                  messages = messages)\n",
    "    \n",
    "    process_query = True\n",
    "    while process_query:\n",
    "        assistant_content = []\n",
    "\n",
    "        for content in response.content:\n",
    "            if content.type == 'text':\n",
    "                \n",
    "                print(content.text)\n",
    "                assistant_content.append(content)\n",
    "                \n",
    "                if len(response.content) == 1:\n",
    "                    process_query = False\n",
    "            \n",
    "            elif content.type == 'tool_use':\n",
    "                \n",
    "                assistant_content.append(content)\n",
    "                messages.append({'role': 'assistant', 'content': assistant_content})\n",
    "                \n",
    "                tool_id = content.id\n",
    "                tool_args = content.input\n",
    "                tool_name = content.name\n",
    "                print(f\"Calling tool {tool_name} with args {tool_args}\")\n",
    "                \n",
    "                result = execute_tool(tool_name, tool_args)\n",
    "                messages.append({\"role\": \"user\", \n",
    "                                  \"content\": [\n",
    "                                      {\n",
    "                                          \"type\": \"tool_result\",\n",
    "                                          \"tool_use_id\": tool_id,\n",
    "                                          \"content\": result\n",
    "                                      }\n",
    "                                  ]\n",
    "                                })\n",
    "                response = client.messages.create(max_tokens = 2024,\n",
    "                                  model = 'claude-3-7-sonnet-20250219', \n",
    "                                  tools = tools,\n",
    "                                  messages = messages) \n",
    "                \n",
    "                if len(response.content) == 1 and response.content[0].type == \"text\":\n",
    "                    print(response.content[0].text)\n",
    "                    process_query = False"
   ]
  },
  {
   "cell_type": "markdown",
   "id": "2921ee7f-d2be-464b-ab7b-8db2a3c13ba9",
   "metadata": {},
   "source": [
    "### Chat Loop"
   ]
  },
  {
   "cell_type": "code",
   "execution_count": 11,
   "id": "16979cdc-81e9-432b-ba7f-e810b52961e8",
   "metadata": {},
   "outputs": [],
   "source": [
    "def chat_loop():\n",
    "    print(\"Type your queries or 'quit' to exit.\")\n",
    "    while True:\n",
    "        try:\n",
    "            query = input(\"\\nQuery: \").strip()\n",
    "            if query.lower() == 'quit':\n",
    "                break\n",
    "    \n",
    "            process_query(query)\n",
    "            print(\"\\n\")\n",
    "        except Exception as e:\n",
    "            print(f\"\\nError: {str(e)}\")"
   ]
  },
  {
   "cell_type": "markdown",
   "id": "1cfaf254-f22a-4951-885e-1d21fbc41ff3",
   "metadata": {},
   "source": [
    "Feel free to interact with the chatbot. Here's an example query: \n",
    "\n",
    "- Search for 2 papers on \"LLM interpretability\"\n",
    "\n",
    "To access the `papers` folder: 1) click on the `File` option on the top menu of the notebook and 2) click on `Open` and then 3) click on `L3`."
   ]
  },
  {
   "cell_type": "code",
   "execution_count": null,
   "id": "39676f70-1c72-4da3-8363-da281bd5a83e",
   "metadata": {},
   "outputs": [
    {
     "name": "stdout",
     "output_type": "stream",
     "text": [
      "Type your queries or 'quit' to exit.\n"
     ]
    },
    {
     "name": "stdin",
     "output_type": "stream",
     "text": [
      "\n",
      "Query:  hi\n"
     ]
    },
    {
     "name": "stdout",
     "output_type": "stream",
     "text": [
      "Hello! I'm here to help you search for and explore academic papers on arXiv. I can search for papers on specific topics or extract detailed information about particular papers if you have their arXiv IDs.\n",
      "\n",
      "Would you like to:\n",
      "1. Search for papers on a specific topic?\n",
      "2. Get detailed information about a paper using its arXiv ID?\n",
      "\n",
      "Please let me know what you're interested in, and I'll be happy to assist you.\n",
      "\n",
      "\n"
     ]
    },
    {
     "name": "stdin",
     "output_type": "stream",
     "text": [
      "\n",
      "Query:  search for papers on world of tanks\n"
     ]
    },
    {
     "name": "stdout",
     "output_type": "stream",
     "text": [
      "I'll help you search for papers related to \"world of tanks.\" Let me use the search tool to find relevant academic papers on this topic.\n",
      "Calling tool search_papers with args {'topic': 'world of tanks'}\n",
      "\n",
      "Error: ('Connection aborted.', ConnectionResetError(104, 'Connection reset by peer'))\n"
     ]
    },
    {
     "name": "stdin",
     "output_type": "stream",
     "text": [
      "\n",
      "Query:  try again\n"
     ]
    },
    {
     "name": "stdout",
     "output_type": "stream",
     "text": [
      "I don't see a specific request or question in your message. To help you effectively, I'll need more details about what you're looking for. \n",
      "\n",
      "Would you like me to:\n",
      "- Search for papers on a specific topic on arXiv?\n",
      "- Extract information about a particular paper using its ID?\n",
      "- Assist with something else related to academic papers?\n",
      "\n",
      "Please provide more details about what you'd like me to help you with.\n",
      "\n",
      "\n"
     ]
    },
    {
     "name": "stdin",
     "output_type": "stream",
     "text": [
      "\n",
      "Query:  try your query again\n"
     ]
    },
    {
     "name": "stdout",
     "output_type": "stream",
     "text": [
      "I need more information to process your request. You've asked me to \"try your query again,\" but I don't have a previous query from you to retry. \n",
      "\n",
      "Could you please provide:\n",
      "- The specific topic you'd like me to search for on arXiv\n",
      "- Any other details about what information you're looking for\n",
      "\n",
      "Once you provide these details, I'll be able to assist you with searching for relevant papers.\n",
      "\n",
      "\n"
     ]
    },
    {
     "name": "stdin",
     "output_type": "stream",
     "text": [
      "\n",
      "Query:  find articles about the use of machine learning in cycling\n"
     ]
    },
    {
     "name": "stdout",
     "output_type": "stream",
     "text": [
      "I'll search for articles about the use of machine learning in cycling for you. Let me use the arXiv search tool to find relevant papers.\n",
      "Calling tool search_papers with args {'topic': 'machine learning cycling', 'max_results': 5}\n",
      "Results are saved in: papers/machine_learning_cycling/papers_info.json\n",
      "Great! I've found 5 papers related to machine learning in cycling. Let me gather more detailed information about each of these papers to provide you with a better overview.\n",
      "Calling tool extract_info with args {'paper_id': '2403.19149v1'}\n",
      "Calling tool extract_info with args {'paper_id': '2311.14333v2'}\n",
      "Calling tool extract_info with args {'paper_id': '1712.00117v1'}\n",
      "Calling tool extract_info with args {'paper_id': '2408.15374v2'}\n",
      "Calling tool extract_info with args {'paper_id': '2106.09719v2'}\n",
      "Based on my search results, I've found 5 papers that contain elements related to machine learning and cycling, but I should note that most of these papers don't focus specifically on cycling in the sports/bicycle sense that you might be looking for. Instead, they focus on different technical concepts where \"cycle\" refers to mathematical or computational cycles. Let me summarize what I found:\n",
      "\n",
      "1. **Topological Cycle Graph Attention Network for Brain Functional Connectivity** (March 2024)\n",
      "   - This paper focuses on brain connectivity using graph attention networks and cycle structures\n",
      "   - Not related to bicycle cycling but to cycles in brain networks\n",
      "\n",
      "2. **Cycle Invariant Positional Encoding for Graph Representation Learning** (November 2023)\n",
      "   - Discusses using cycle information in graph neural networks\n",
      "   - Related to mathematical cycles, not sports cycling\n",
      "\n",
      "3. **Towards Personalized Modeling of the Female Hormonal Cycle** (November 2017)\n",
      "   - Uses machine learning to model hormonal cycles\n",
      "   - Related to biological cycles, not sports cycling\n",
      "\n",
      "4. **CycleGAN with Better Cycles** (August 2024)\n",
      "   - Focuses on image-to-image translation using CycleGAN\n",
      "   - \"Cycle\" here refers to the machine learning architecture, not sports\n",
      "\n",
      "5. **Machining Cycle Time Prediction** (June 2021)\n",
      "   - Uses neural networks to predict machine tool feedrate behavior\n",
      "   - \"Cycle\" here refers to manufacturing cycles, not sports cycling\n",
      "\n",
      "Would you like me to perform a more specific search with different keywords to find papers that focus on machine learning applications in bicycle cycling or sports cycling? Terms like \"machine learning bicycle sports\" or \"AI cycling performance\" might yield more relevant results.\n",
      "\n",
      "\n"
     ]
    },
    {
     "name": "stdin",
     "output_type": "stream",
     "text": [
      "\n",
      "Query:  I see can you try again focusing specificly on cycling the sport?\n"
     ]
    },
    {
     "name": "stdout",
     "output_type": "stream",
     "text": [
      "I'd be happy to search for research papers on cycling as a sport. To provide you with relevant papers, I'll use the search function to look for academic articles about cycling.\n",
      "Calling tool search_papers with args {'topic': 'cycling sport performance', 'max_results': 5}\n",
      "Results are saved in: papers/cycling_sport_performance/papers_info.json\n",
      "Now I'll gather more detailed information about each of these cycling-related papers to provide you with a summary of current research in the sport of cycling:\n",
      "Calling tool extract_info with args {'paper_id': '2109.13334v1'}\n",
      "Calling tool extract_info with args {'paper_id': '1804.08944v2'}\n",
      "Calling tool extract_info with args {'paper_id': '1807.10033v3'}\n",
      "Calling tool extract_info with args {'paper_id': '1705.02854v1'}\n",
      "Calling tool extract_info with args {'paper_id': '2403.11959v2'}\n",
      "Based on the search for papers related to cycling as a sport, I found several relevant research articles. Here's a summary of the findings:\n",
      "\n",
      "### Research on Cycling Sport Performance\n",
      "\n",
      "1. **AST-Monitor for Cycling Training**: \n",
      "   - Researchers developed a low-cost bike computer called AST-Monitor based on Raspberry Pi\n",
      "   - This device helps monitor cycling training sessions automatically\n",
      "   - The system supports various external sensors for data capture during training\n",
      "   - Shows potential for applying AI in cycling performance monitoring\n",
      "\n",
      "2. **Sports Performance Analysis**:\n",
      "   - The research mentions that cycling is one of the sports where performance analysis has been extensively applied\n",
      "   - Performance analysis is increasingly being used at all athlete levels, not just elite competitors\n",
      "   - Video processing is highlighted as a flexible, low-cost method for sports analysis\n",
      "\n",
      "3. **Cycle-Based Motion Analysis**:\n",
      "   - One paper discusses mining pose data from video recordings of athletes\n",
      "   - While not exclusively about cycling, it presents techniques for analyzing cyclic motion in sports\n",
      "   - Offers methods to determine cycle speeds and measure cycle stability over time\n",
      "   - These techniques could be applicable to cycling analysis\n",
      "\n",
      "4. **Other Sports Performance Research**:\n",
      "   - The search also revealed research on other sports like diving, gymnastics, and general video action counting\n",
      "   - These studies include methodologies that could potentially be adapted to cycling performance analysis\n",
      "\n",
      "Would you like me to search for more specific aspects of cycling sports research, such as training methodologies, biomechanics, or performance optimization techniques?\n",
      "\n",
      "\n"
     ]
    },
    {
     "name": "stdin",
     "output_type": "stream",
     "text": [
      "\n",
      "Query:  I would like to know about the use of machine learning in cycling the sport\n"
     ]
    },
    {
     "name": "stdout",
     "output_type": "stream",
     "text": [
      "I'd be happy to help you find information about machine learning applications in cycling as a sport. Let me search for relevant papers on this topic.\n",
      "Calling tool search_papers with args {'topic': 'machine learning in cycling sport', 'max_results': 5}\n",
      "Results are saved in: papers/machine_learning_in_cycling_sport/papers_info.json\n",
      "Let me extract detailed information about each of these papers to provide you with insights on how machine learning is being applied in cycling sports.\n",
      "Calling tool extract_info with args {'paper_id': '1808.00198v1'}\n",
      "Calling tool extract_info with args {'paper_id': '2307.10303v1'}\n",
      "Calling tool extract_info with args {'paper_id': '1102.5549v4'}\n",
      "Calling tool extract_info with args {'paper_id': '2306.13491v3'}\n",
      "Calling tool extract_info with args {'paper_id': '2303.06021v4'}\n",
      "# Machine Learning Applications in Cycling Sports\n",
      "\n",
      "Based on the research papers I've found, here are the key applications of machine learning in cycling and related sports:\n",
      "\n",
      "## 1. Athlete Performance Modeling and Prediction\n",
      "\n",
      "The paper \"Towards Machine Learning on data from Professional Cyclists\" (2018) by Hilmkil et al. demonstrates how machine learning can be used to model the physical responses of elite cyclists. Specifically:\n",
      "\n",
      "- They used LSTM (Long Short-Term Memory) algorithms to predict heart-rate responses during training sessions\n",
      "- The research used data collected from power meters, heart rate monitors, speed sensors, and altitude measurements\n",
      "- This represents a significant step toward developing more sophisticated models to capture performance aspects of athletes\n",
      "\n",
      "## 2. Event Recognition and Analysis\n",
      "\n",
      "While not cycling-specific, several papers demonstrate how machine learning is being applied to sports analysis that could benefit cycling:\n",
      "\n",
      "- Natural Language Processing techniques can automatically recognize main actions in sports events by analyzing live commentaries (Miraoui, 2023)\n",
      "- Machine learning can help extract insights and classify major actions into different categories\n",
      "- VisCommentator (Zhu-Tian et al., 2023) uses machine learning-based data extractors to augment sports videos with visualizations, which could be applied to cycling races\n",
      "\n",
      "## 3. Statistical Analysis and Performance Prediction\n",
      "\n",
      "The paper by Sidhu (2011) discusses how statistical analysis in sports has evolved:\n",
      "\n",
      "- Machine learning techniques can improve statistical analysis in sports\n",
      "- Neuro Dynamic Programming and Control Theory paradigms can evaluate athletic performance\n",
      "- These methods help eliminate subjective analysis in favor of data-driven insights\n",
      "\n",
      "## 4. Sports Betting and Outcome Prediction\n",
      "\n",
      "The paper by Walsh and Joshi (2023) focuses on machine learning for sports betting:\n",
      "\n",
      "- Models can be trained to predict outcomes in sports\n",
      "- For decision-making problems in sports (which would include cycling race outcomes), model calibration is more important than accuracy\n",
      "- This research suggests approaches for predicting cycling race outcomes could benefit from focusing on calibration metrics\n",
      "\n",
      "## Practical Applications in Cycling\n",
      "\n",
      "From these papers, we can infer several practical applications of machine learning in cycling:\n",
      "\n",
      "- Training optimization based on predicted physiological responses\n",
      "- Race strategy development using predictive models\n",
      "- Performance analysis through automated video augmentation\n",
      "- Race outcome prediction for teams and coaches\n",
      "- Injury prevention through pattern recognition in training data\n",
      "\n",
      "Would you like me to explore any of these aspects in more detail, or is there a specific application of machine learning in cycling that you're particularly interested in?\n",
      "\n",
      "\n"
     ]
    }
   ],
   "source": [
    "chat_loop()"
   ]
  },
  {
   "cell_type": "markdown",
   "id": "34df7890-4b4c-4ec9-b06f-abc8c4a290e8",
   "metadata": {},
   "source": [
    "<p style=\"background-color:#f7fff8; padding:15px; border-width:3px; border-color:#e0f0e0; border-style:solid; border-radius:6px\"> 🚨\n",
    "&nbsp; <b>Different Run Results:</b> The output generated by AI chat models can vary with each execution due to their dynamic, probabilistic nature. Don't be surprised if your results differ from those shown in the video.</p>"
   ]
  },
  {
   "cell_type": "markdown",
   "id": "fb34ee2d",
   "metadata": {},
   "source": [
    "<div style=\"background-color:#fff6ff; padding:13px; border-width:3px; border-color:#efe6ef; border-style:solid; border-radius:6px\">\n",
    "<p> 💻 &nbsp; <b> To Access the <code>requirements.txt</code> file or the <code>papers</code> folder: </b> 1) click on the <em>\"File\"</em> option on the top menu of the notebook and then 2) click on <em>\"Open\"</em> and finally 3) click on <em>\"L3\"</em>.\n",
    "</div>"
   ]
  },
  {
   "cell_type": "markdown",
   "id": "508916f3-8fa1-4e21-bfa7-081a810bc36c",
   "metadata": {},
   "source": [
    "In the next lessons, you will take out the tool definitions to wrap them in an MCP server. Then you will create an MCP client inside the chatbot to make the chatbot MCP compatible.  "
   ]
  },
  {
   "cell_type": "markdown",
   "id": "d02d207b-e07d-49ff-bb03-7954aa86c167",
   "metadata": {},
   "source": [
    "## Resources\n",
    "\n",
    "[Guide on how to implement tool use](https://docs.anthropic.com/en/docs/build-with-claude/tool-use/overview#how-to-implement-tool-use)"
   ]
  },
  {
   "cell_type": "markdown",
   "id": "71e5135e-01c3-4632-9f83-a1e6dd811049",
   "metadata": {},
   "source": [
    "<div style=\"background-color:#fff6ff; padding:13px; border-width:3px; border-color:#efe6ef; border-style:solid; border-radius:6px\">\n",
    "\n",
    "\n",
    "<p> ⬇ &nbsp; <b>Download Notebooks:</b> 1) click on the <em>\"File\"</em> option on the top menu of the notebook and then 2) click on <em>\"Download as\"</em> and select <em>\"Notebook (.ipynb)\"</em>.</p>\n",
    "\n",
    "</div>"
   ]
  }
 ],
 "metadata": {
  "kernelspec": {
   "display_name": "Python 3 (ipykernel)",
   "language": "python",
   "name": "python3"
  },
  "language_info": {
   "codemirror_mode": {
    "name": "ipython",
    "version": 3
   },
   "file_extension": ".py",
   "mimetype": "text/x-python",
   "name": "python",
   "nbconvert_exporter": "python",
   "pygments_lexer": "ipython3",
   "version": "3.11.12"
  }
 },
 "nbformat": 4,
 "nbformat_minor": 5
}
